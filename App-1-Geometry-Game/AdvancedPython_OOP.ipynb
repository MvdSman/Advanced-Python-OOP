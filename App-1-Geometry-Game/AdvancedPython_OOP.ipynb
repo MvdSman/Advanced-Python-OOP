{
  "nbformat": 4,
  "nbformat_minor": 0,
  "metadata": {
    "colab": {
      "name": "AdvancedPython_OOP.ipynb",
      "provenance": [],
      "toc_visible": true
    },
    "kernelspec": {
      "name": "python3",
      "display_name": "Python 3"
    },
    "language_info": {
      "name": "python"
    }
  },
  "cells": [
    {
      "cell_type": "markdown",
      "source": [
        "# Advanced Python: Python OOP\n",
        "\n",
        "Master Python from the inside out and learn how to build any Python program with ease using Python classes and OOP."
      ],
      "metadata": {
        "id": "j_NrvB6esv3h"
      }
    },
    {
      "cell_type": "markdown",
      "source": [
        "## Classes"
      ],
      "metadata": {
        "id": "Et67pAd_tNq3"
      }
    },
    {
      "cell_type": "markdown",
      "source": [
        "### Exc.: Make a list of the Python objects that will be a part of the program.\n",
        "\n",
        "The game is about users guessing points inside a rectangle. Rectangles have coordinates for lower-left and upper-right corners and points also have coordinates.\n",
        "\n",
        "* Rectangle\n",
        "* LL coordinates rectangle: x, y\n",
        "* UR coordinates rectangle: x, y\n",
        "* Point\n",
        "* Point coordinates: x, y\n",
        "\n",
        "Correct answer:\n",
        "* Message -> string\n",
        "* Coordinate -> float\n",
        "* rectangle -> ?\n",
        "* point -> ?"
      ],
      "metadata": {
        "id": "X7OPNssTtXr7"
      }
    },
    {
      "cell_type": "markdown",
      "source": [
        "### Development Steps\n",
        "\n",
        "1. Writing down the objects on paper\n",
        "2. Writing a class for each object\n",
        "3. Writing methods for each class\n",
        "4. Calling the classes and their methods"
      ],
      "metadata": {
        "id": "dXKgzmwK1V1M"
      }
    },
    {
      "cell_type": "markdown",
      "source": [
        "### Creating a class\n",
        "\n",
        "* Use CamelCase for classes, snake_case for functions.\n",
        "* Use `def __init__` to define the minimally required inputs for the class.\n",
        "* The variable `self` holds the object instance that's created (can be named anything). Executed once during object instantiation."
      ],
      "metadata": {
        "id": "c8DxzcBg3aoF"
      }
    },
    {
      "cell_type": "code",
      "source": [
        "class Point:\n",
        "\n",
        "  def __init__(self, x, y):\n",
        "    self.x = x\n",
        "    self.y = y\n",
        "\n",
        "  # Check if point falls inside rectangle\n",
        "  def falls_in_rectangle_point(self, lowleft, upright):\n",
        "    if lowleft[0] < self.x < upright[0] \\\n",
        "    and lowleft[1] < self.y < upright[1]:\n",
        "      return True\n",
        "    else:\n",
        "      return False\n",
        "      \n",
        "  # Check if point falls inside rectangle\n",
        "  def falls_in_rectangle_rect(self, rectangle):\n",
        "    if rectangle.lowleft.x < self.x < rectangle.upright.x \\\n",
        "    and rectangle.lowleft.y < self.y < rectangle.upright.y:\n",
        "      return True\n",
        "    else:\n",
        "      return False\n",
        "\n",
        "  # Calculate distance by using Pythagoras: a^2 + b^2 = c^2\n",
        "  def distance_from_coord(self, x, y):\n",
        "    dx = self.x - x\n",
        "    dy = self.y - y\n",
        "    return (dx**2 + dy**2)**0.5\n",
        "\n",
        "  # Calculate distance by using Pythagoras: a^2 + b^2 = c^2\n",
        "  def distance_from_point(self, point):\n",
        "    dx = self.x - point.x\n",
        "    dy = self.y - point.y\n",
        "    return (dx**2 + dy**2)**0.5\n",
        "\n",
        "point1 = Point(10, 20)\n",
        "point2 = Point(1, 2)\n",
        "point3 = Point(4, 4)\n",
        "point4 = Point(3, 2)\n",
        "print(f\"Type: {type(point1)}\")\n",
        "print(f\"Inside rectangle: {point1.falls_in_rectangle_point([9, 18], [11, 22])}\")\n",
        "print(f\"Inside rectangle: {point1.falls_in_rectangle_point([11, 18], [12, 22])}\")\n",
        "print(f\"Distance: {point2.distance_from_coord(point3.x, point3.y)}\")\n",
        "print(f\"Distance: {point2.distance_from_coord(point4.x, point4.y)}\")\n",
        "print(f\"Distance: {point2.distance_from_point(point3)}\")"
      ],
      "metadata": {
        "colab": {
          "base_uri": "https://localhost:8080/"
        },
        "id": "sGOBLiaW4G32",
        "outputId": "7007f9e4-d3ea-4983-a0c4-98a5d3384601"
      },
      "execution_count": 18,
      "outputs": [
        {
          "output_type": "stream",
          "name": "stdout",
          "text": [
            "Type: <class '__main__.Point'>\n",
            "Inside rectangle: True\n",
            "Inside rectangle: False\n",
            "Distance: 3.605551275463989\n",
            "Distance: 2.0\n",
            "Distance: 3.605551275463989\n"
          ]
        }
      ]
    },
    {
      "cell_type": "code",
      "source": [
        "class Rectangle:\n",
        "\n",
        "  def __init__(self, lowleft, upright):\n",
        "    self.lowleft = lowleft\n",
        "    self.upright = upright\n",
        "\n",
        "rectangleX = Rectangle(point2, point1)\n",
        "print(f\"Inside rectangle: {point3.falls_in_rectangle_rect(rectangleX)}\")"
      ],
      "metadata": {
        "colab": {
          "base_uri": "https://localhost:8080/"
        },
        "id": "m_ynFd2uOsXV",
        "outputId": "fb095b79-9331-418b-f954-603c23c2c008"
      },
      "execution_count": 19,
      "outputs": [
        {
          "output_type": "stream",
          "name": "stdout",
          "text": [
            "Inside rectangle: True\n"
          ]
        }
      ]
    },
    {
      "cell_type": "markdown",
      "source": [
        "### Final code"
      ],
      "metadata": {
        "id": "K5m-OYPiRBLD"
      }
    },
    {
      "cell_type": "code",
      "source": [
        "# Classes\n",
        "class Point:\n",
        "\n",
        "  def __init__(self, x, y):\n",
        "    self.x = x\n",
        "    self.y = y\n",
        "      \n",
        "  def falls_in_rectangle(self, rectangle):\n",
        "    if rectangle.lowleft.x < self.x < rectangle.upright.x \\\n",
        "    and rectangle.lowleft.y < self.y < rectangle.upright.y:\n",
        "      return True\n",
        "    else:\n",
        "      return False\n",
        "\n",
        "class Rectangle:\n",
        "\n",
        "  def __init__(self, lowleft, upright):\n",
        "    self.lowleft = lowleft\n",
        "    self.upright = upright\n",
        "\n",
        "  def area(self):\n",
        "    return (self.upright.x - self.lowleft.x) * (self.upright.y - self.lowleft.y)"
      ],
      "metadata": {
        "id": "PUBjlRszRJRI"
      },
      "execution_count": 25,
      "outputs": []
    },
    {
      "cell_type": "code",
      "source": [
        "# Main\n",
        "from random import randint\n",
        "\n",
        "rectangle = Rectangle(\n",
        "    Point(randint(0, 9), randint(0, 9)),\n",
        "    Point(randint(10, 19), randint(10, 19))\n",
        ")\n",
        "\n",
        "print(f\"Rectangle Coordinates: LLx = {rectangle.lowleft.x}, LLy = {rectangle.lowleft.y}, URx = {rectangle.upright.x}, URy = {rectangle.upright.y}\")"
      ],
      "metadata": {
        "colab": {
          "base_uri": "https://localhost:8080/"
        },
        "id": "XDx0OtNLRhM0",
        "outputId": "97aa2780-450f-4218-b333-342145fd6c17"
      },
      "execution_count": 26,
      "outputs": [
        {
          "output_type": "stream",
          "name": "stdout",
          "text": [
            "Rectangle Coordinates: LLx = 0, LLy = 1, URx = 11, URy = 15\n"
          ]
        }
      ]
    },
    {
      "cell_type": "code",
      "source": [
        "# Exec1\n",
        "user_point = Point(float(input(\"Guess X: \")), float(input(\"Guess Y: \")))\n",
        "print(f\"Your point was inside rectangle: {user_point.falls_in_rectangle(rectangle)}\")"
      ],
      "metadata": {
        "id": "v22D5g7uTgcL"
      },
      "execution_count": null,
      "outputs": []
    },
    {
      "cell_type": "code",
      "source": [
        "# Exec2\n",
        "user_area = float(input(\"Guess rectangle area: \"))\n",
        "print(f\"Area was off by: {rectangle.area() - user_area} (actual size: {rectangle.area()})\")"
      ],
      "metadata": {
        "colab": {
          "base_uri": "https://localhost:8080/"
        },
        "id": "qkqaQS-JToKb",
        "outputId": "31abd3fc-9659-44ce-9e57-57c516864a69"
      },
      "execution_count": 28,
      "outputs": [
        {
          "output_type": "stream",
          "name": "stdout",
          "text": [
            "Guess rectangle area: 150\n",
            "Area was off by: 4.0 (actual size: 154)\n"
          ]
        }
      ]
    },
    {
      "cell_type": "code",
      "source": [
        "# Fix to prevent lowleft/upright point swapping\n",
        "class Point:\n",
        " \n",
        "  def __init__(self, x, y):\n",
        "    self.x = x\n",
        "    self.y = y\n",
        " \n",
        "  def falls_in_rectangle(self, rectangle):\n",
        "    if rectangle.point1.x < self.x < rectangle.point2.x \\\n",
        "    and rectangle.point1.y < self.y < rectangle.point2.y:\n",
        "      return True\n",
        "    else:\n",
        "      return False\n",
        "\n",
        "class Rectangle:\n",
        " \n",
        "  def __init__(self, point1, point2):\n",
        "    self.point1 = point1\n",
        "    self.point2 = point2\n",
        "\n",
        "  def area(self):\n",
        "    return (self.point2.x - self.point1.x) * \\\n",
        "      (self.point2.y - self.point1.y)"
      ],
      "metadata": {
        "id": "DT3QhBIUVYqE"
      },
      "execution_count": 29,
      "outputs": []
    },
    {
      "cell_type": "code",
      "source": [
        "# Main\n",
        "from random import randint\n",
        "\n",
        "rectangle = Rectangle(\n",
        "    Point(randint(0, 9), randint(0, 9)),\n",
        "    Point(randint(10, 19), randint(10, 19))\n",
        ")\n",
        "\n",
        "print(f\"Rectangle Coordinates: p1x = {rectangle.point1.x}, p1y = {rectangle.point1.y}, p2x = {rectangle.point2.x}, p2y = {rectangle.point2.y}\")"
      ],
      "metadata": {
        "colab": {
          "base_uri": "https://localhost:8080/"
        },
        "id": "OeutPFkZV3Oc",
        "outputId": "9576a8a8-3485-41ce-b1bb-9cfd9868614d"
      },
      "execution_count": 32,
      "outputs": [
        {
          "output_type": "stream",
          "name": "stdout",
          "text": [
            "Rectangle Coordinates: p1x = 0, p1y = 8, p2x = 12, p2y = 15\n"
          ]
        }
      ]
    },
    {
      "cell_type": "code",
      "source": [
        "# Exec1\n",
        "user_point = Point(float(input(\"Guess X: \")), float(input(\"Guess Y: \")))\n",
        "print(f\"Your point was inside rectangle: {user_point.falls_in_rectangle(rectangle)}\")\n",
        "user_area = float(input(\"Guess rectangle area: \"))\n",
        "print(f\"Area was off by: {rectangle.area() - user_area} (actual size: {rectangle.area()})\")"
      ],
      "metadata": {
        "colab": {
          "base_uri": "https://localhost:8080/"
        },
        "id": "O05IOUg0V9-M",
        "outputId": "4986c6f2-fce4-44cc-b48f-404366664717"
      },
      "execution_count": 33,
      "outputs": [
        {
          "output_type": "stream",
          "name": "stdout",
          "text": [
            "Guess X: 2\n",
            "Guess Y: 6\n",
            "Your point was inside rectangle: False\n",
            "Guess rectangle area: 20\n",
            "Area was off by: 64.0 (actual size: 84)\n"
          ]
        }
      ]
    }
  ]
}